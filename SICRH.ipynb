{
 "cells": [
  {
   "cell_type": "code",
   "execution_count": 28,
   "metadata": {},
   "outputs": [],
   "source": [
    "import numpy as np\n",
    "import random\n",
    "import pandas as pd\n",
    "from scipy.integrate import odeint\n",
    "import matplotlib.pyplot as plt\n",
    "import seaborn as sns\n",
    "import matplotlib.dates as mdates\n",
    "from matplotlib import dates\n",
    "from sklearn.metrics import mean_squared_error, r2_score\n",
    "from datetime import datetime\n",
    "from lmfit import minimize, Parameters, Parameter, report_fit\n",
    "from statsmodels.tsa.arima_model import ARIMA"
   ]
  },
  {
   "cell_type": "markdown",
   "metadata": {},
   "source": [
    "# step 0: data importation #"
   ]
  },
  {
   "cell_type": "code",
   "execution_count": 29,
   "metadata": {},
   "outputs": [],
   "source": [
    "csv_url=\"https://raw.githubusercontent.com/ADelau/proj0016-epidemic-data/main/data.csv\"\n",
    "data = pd.read_csv(csv_url)"
   ]
  },
  {
   "cell_type": "code",
   "execution_count": 210,
   "metadata": {},
   "outputs": [
    {
     "data": {
      "text/html": [
       "<div>\n",
       "<style scoped>\n",
       "    .dataframe tbody tr th:only-of-type {\n",
       "        vertical-align: middle;\n",
       "    }\n",
       "\n",
       "    .dataframe tbody tr th {\n",
       "        vertical-align: top;\n",
       "    }\n",
       "\n",
       "    .dataframe thead th {\n",
       "        text-align: right;\n",
       "    }\n",
       "</style>\n",
       "<table border=\"1\" class=\"dataframe\">\n",
       "  <thead>\n",
       "    <tr style=\"text-align: right;\">\n",
       "      <th></th>\n",
       "      <th>Day</th>\n",
       "      <th>num_positive</th>\n",
       "      <th>num_tested</th>\n",
       "      <th>num_hospitalised</th>\n",
       "      <th>num_cumulative_hospitalizations</th>\n",
       "      <th>num_critical</th>\n",
       "      <th>num_fatalities</th>\n",
       "    </tr>\n",
       "  </thead>\n",
       "  <tbody>\n",
       "    <tr>\n",
       "      <th>0</th>\n",
       "      <td>1</td>\n",
       "      <td>0</td>\n",
       "      <td>0</td>\n",
       "      <td>1</td>\n",
       "      <td>1</td>\n",
       "      <td>0</td>\n",
       "      <td>0</td>\n",
       "    </tr>\n",
       "    <tr>\n",
       "      <th>1</th>\n",
       "      <td>2</td>\n",
       "      <td>5</td>\n",
       "      <td>8</td>\n",
       "      <td>1</td>\n",
       "      <td>1</td>\n",
       "      <td>0</td>\n",
       "      <td>0</td>\n",
       "    </tr>\n",
       "    <tr>\n",
       "      <th>2</th>\n",
       "      <td>3</td>\n",
       "      <td>10</td>\n",
       "      <td>12</td>\n",
       "      <td>2</td>\n",
       "      <td>2</td>\n",
       "      <td>0</td>\n",
       "      <td>0</td>\n",
       "    </tr>\n",
       "    <tr>\n",
       "      <th>3</th>\n",
       "      <td>4</td>\n",
       "      <td>11</td>\n",
       "      <td>16</td>\n",
       "      <td>2</td>\n",
       "      <td>2</td>\n",
       "      <td>0</td>\n",
       "      <td>0</td>\n",
       "    </tr>\n",
       "    <tr>\n",
       "      <th>4</th>\n",
       "      <td>5</td>\n",
       "      <td>9</td>\n",
       "      <td>12</td>\n",
       "      <td>2</td>\n",
       "      <td>2</td>\n",
       "      <td>0</td>\n",
       "      <td>0</td>\n",
       "    </tr>\n",
       "  </tbody>\n",
       "</table>\n",
       "</div>"
      ],
      "text/plain": [
       "   Day  num_positive  num_tested  num_hospitalised  \\\n",
       "0    1             0           0                 1   \n",
       "1    2             5           8                 1   \n",
       "2    3            10          12                 2   \n",
       "3    4            11          16                 2   \n",
       "4    5             9          12                 2   \n",
       "\n",
       "   num_cumulative_hospitalizations  num_critical  num_fatalities  \n",
       "0                                1             0               0  \n",
       "1                                1             0               0  \n",
       "2                                2             0               0  \n",
       "3                                2             0               0  \n",
       "4                                2             0               0  "
      ]
     },
     "execution_count": 210,
     "metadata": {},
     "output_type": "execute_result"
    }
   ],
   "source": [
    "data.head(5)"
   ]
  },
  {
   "cell_type": "markdown",
   "metadata": {},
   "source": [
    "# step 1: setting up the model #"
   ]
  },
  {
   "cell_type": "markdown",
   "metadata": {},
   "source": [
    "## step 1.1: writing the ode system ##"
   ]
  },
  {
   "cell_type": "raw",
   "metadata": {},
   "source": [
    "here I write the relation between y' and y\n",
    "remember: y=[S,E,I,C,R,H,ICU,D]"
   ]
  },
  {
   "cell_type": "code",
   "execution_count": 83,
   "metadata": {},
   "outputs": [],
   "source": [
    "def deriv(y, t, N, ps):\n",
    "    S,E,I,C,R,H,ICU,D = y\n",
    "    try:\n",
    "        beta_SE = ps['beta_SE'].value\n",
    "        gamma_ER = ps['gamma_ER'].value\n",
    "        fraction_symptomatic = ps['fraction_symptomatic'].value\n",
    "        days_EtoI=ps['days_EtoI'].value\n",
    "        days_ItoH=ps['days_ItoH'].value\n",
    "        days_ItoR=ps['days_ItoR'].value\n",
    "        days_HtoR=ps['days_HtoR'].value\n",
    "        days_HtoICU=ps['days_HtoICU'].value\n",
    "        days_ICUtoD=ps['days_ICUtoD'].value\n",
    "        days_ICUtoH=ps['days_ICUtoH'].value\n",
    "        \n",
    "    except:\n",
    "        beta_SE, gamma_ER, fraction_symptomatic, days_EtoI, days_ItoH, days_ItoR, days_HtoR, days_HtoICU, days_ICUtoD, days_ICUtoH= ps\n",
    "    \n",
    "    #beta = beta_i*(1.1-tau*t) idée de faire régresser beta\n",
    "    dSdt = -beta_SE*(S*(I+C))/(N-D)\n",
    "    dEdt = beta_SE*(S*(I+C))/(N-D)-gamma_ER*E\n",
    "    dIdt = (fraction_symptomatic)*E/days_EtoI-I*(1/days_ItoH+1/days_ItoR)\n",
    "    dCdt = (1-fraction_symptomatic)*E/days_EtoI-C/days_ItoR\n",
    "    dRdt = (C+I)/days_ItoR+H/days_HtoR\n",
    "    dHdt = I/days_ItoH*I+ICU/days_ICUtoH-H*(1/days_HtoICU+1/days_HtoR)\n",
    "    dICUdt = H/days_HtoICU-ICU*(1/days_ICUtoD+1/days_ICUtoH)\n",
    "    dDdt = ICU/days_ICUtoD\n",
    "    \n",
    "    return dSdt, dEdt, dIdt, dCdt, dRdt, dHdt, dICUdt, dDdt"
   ]
  },
  {
   "cell_type": "markdown",
   "metadata": {},
   "source": [
    "## step 1.2: writing the parameters values and guesses ##\n"
   ]
  },
  {
   "cell_type": "code",
   "execution_count": 245,
   "metadata": {},
   "outputs": [],
   "source": [
    "# the lmfit module uises an orderd dict structure\n",
    "# to store the parameters to be optimized\n",
    "# https://lmfit.github.io/lmfit-py/parameters.html\n",
    "\n",
    "params = Parameters()\n",
    "params.add('beta_SE', value=0.15, min=0.001, max=2)\n",
    "params.add('gamma_ER', value= 0.05, min=0.1, max=2)\n",
    "params.add('fraction_symptomatic', value= 0.6, min=0.5, max=0.7)\n",
    "params.add('days_EtoI', value= 3, min=1, max=5)\n",
    "params.add('days_ItoH',value=5, min=1,max=20)\n",
    "params.add('days_ItoR',value=10,min=1,max=50)\n",
    "params.add('days_HtoR',value=12,min=1,max=100)\n",
    "params.add('days_HtoICU',value=5,min=1,max=50)\n",
    "params.add('days_ICUtoD',value=2,min=1,max=50)\n",
    "params.add('days_ICUtoH',value=6,min=1,max=50)\n",
    "params.add('I0',value=5,min=1,max=50)\n",
    "params.add('E0',value=10,min=1,max=40)\n",
    "params.add('I0',value=5,min=1,max=20)\n",
    "params.add('C0',value=5,min=0,max=20)\n",
    "params.add('OBS_Tr_EI_to_nbTest',value=0.25,min=0.05,max=1)\n",
    "params.add('OBS_nbTest_to_nbpos',value=0.75,min=0.5,max=0.9)\n",
    "# params.add('OBS_H_to_ICU',value=0.1,min=0.01,max=0.5) mistake??\n",
    "\n"
   ]
  },
  {
   "cell_type": "markdown",
   "metadata": {},
   "source": [
    "## step 1.3 writing the solver ##"
   ]
  },
  {
   "cell_type": "code",
   "execution_count": 246,
   "metadata": {},
   "outputs": [],
   "source": [
    "#this function solves the ode\n",
    "#input: function deriv, initial compartiments y0, t, and N,ps as arguments??\n",
    "#output: the ode solution\n",
    "def odesol(y,t,N,ps):\n",
    "    E0=ps['E0'].value\n",
    "    I0 = ps['I0'].value\n",
    "    C0=ps['C0'].value\n",
    "    S0=N-I0-E0-C0-1\n",
    "    R0=0\n",
    "    H0=1\n",
    "    ICU0=0\n",
    "    D0=0\n",
    "    \n",
    "    y0 = S0,E0,I0,C0,R0,H0,ICU0,D0\n",
    "    x = odeint(deriv, y0, t, args=(N, ps))\n",
    "    \n",
    "    return x\n",
    "\n"
   ]
  },
  {
   "cell_type": "code",
   "execution_count": 247,
   "metadata": {},
   "outputs": [],
   "source": [
    "# this function generate the observation dataframe\n",
    "def create_obsdf(model,ps,data):\n",
    "    result=pd.DataFrame(columns=data.columns)\n",
    "    result['Day']=data['Day']\n",
    "    nb_trans_EI=ps['beta_SE']*(model['S']*(model['I']+model['C']))/(10**6-model['D'])\n",
    "    result['num_tested']=ps['OBS_Tr_EI_to_nbTest'].value*nb_trans_EI\n",
    "    result['num_positive']=ps['OBS_nbTest_to_nbpos'].value*result['num_tested']\n",
    "    result['num_hospitalised']=model['H']\n",
    "    result['num_cumulative_hospitalizations']=result['num_hospitalised'].diff().fillna(0).cumsum()\n",
    "    result['num_critical']=model['ICU']\n",
    "    result['num_fatalities']=model['D']\n",
    "    return result\n",
    "    \n",
    "\n",
    "#test['num_tested']=params['OBS_Tr_EI_to_nbTest'].value*"
   ]
  },
  {
   "cell_type": "markdown",
   "metadata": {},
   "source": [
    "# step 2: fitting the model #"
   ]
  },
  {
   "cell_type": "markdown",
   "metadata": {},
   "source": [
    "## step 2.1: write objective function ##"
   ]
  },
  {
   "cell_type": "code",
   "execution_count": 248,
   "metadata": {},
   "outputs": [
    {
     "ename": "NameError",
     "evalue": "name 'obs_df' is not defined",
     "output_type": "error",
     "traceback": [
      "\u001b[1;31m---------------------------------------------------------------------------\u001b[0m",
      "\u001b[1;31mNameError\u001b[0m                                 Traceback (most recent call last)",
      "\u001b[1;32m<ipython-input-248-03766de27e87>\u001b[0m in \u001b[0;36m<module>\u001b[1;34m\u001b[0m\n\u001b[1;32m----> 1\u001b[1;33m \u001b[0mobs_df\u001b[0m\u001b[1;33m\u001b[0m\u001b[1;33m\u001b[0m\u001b[0m\n\u001b[0m",
      "\u001b[1;31mNameError\u001b[0m: name 'obs_df' is not defined"
     ]
    }
   ],
   "source": [
    "obs_df"
   ]
  },
  {
   "cell_type": "code",
   "execution_count": 249,
   "metadata": {},
   "outputs": [],
   "source": [
    "#this function compute residuals,\n",
    "#ie objective function to be minimized in the optimization function\n",
    "def residual(ps, ts, data):\n",
    "    model = pd.DataFrame(odesol(y0,t,N,ps), columns=['S','E','I','C','R','H','ICU','D'])\n",
    "    obs_df=create_obsdf(model,ps,data)\n",
    "    component1=(obs_df['num_positive']-data['num_positive']).ravel()\n",
    "    component2=(obs_df['num_hospitalised']-data['num_hospitalised']).ravel()\n",
    "    component3=(obs_df['num_critical']-data['num_critical']).ravel()\n",
    "    component4=(obs_df['num_fatalities']-data['num_fatalities']).ravel()\n",
    "    # penalty function to think more about !!!\n",
    "    return component1**2+component2**2+component3**2+component4**2"
   ]
  },
  {
   "cell_type": "raw",
   "metadata": {},
   "source": [
    "little test"
   ]
  },
  {
   "cell_type": "code",
   "execution_count": 250,
   "metadata": {},
   "outputs": [
    {
     "data": {
      "text/plain": [
       "array([7.91012303e+00, 2.47372836e+01, 1.09293917e+02, 2.17510289e+02,\n",
       "       3.44372083e+02, 5.69120954e+02, 8.84869471e+02, 1.37849149e+03,\n",
       "       1.90015773e+03, 2.63782862e+03, 4.41197249e+03, 5.98386346e+03,\n",
       "       8.60434920e+03, 1.25178542e+04, 1.80140752e+04, 2.52930154e+04,\n",
       "       3.58894987e+04, 5.21876909e+04, 7.42013008e+04, 1.04272335e+05,\n",
       "       1.47516825e+05, 2.07209847e+05, 2.94302085e+05, 4.17660603e+05,\n",
       "       5.91771122e+05, 8.37515943e+05, 1.18778008e+06, 1.67986514e+06,\n",
       "       2.37560620e+06, 3.35474586e+06, 4.73882026e+06, 6.66547172e+06,\n",
       "       9.41048748e+06, 1.33107147e+07, 1.87408768e+07, 2.63969731e+07,\n",
       "       3.71750905e+07, 5.24867309e+07, 7.39699454e+07, 1.04420263e+08,\n",
       "       1.47279916e+08, 2.07471449e+08, 2.92626760e+08, 4.12705649e+08,\n",
       "       5.81829252e+08, 8.19557546e+08, 1.15518563e+09, 1.62740322e+09,\n",
       "       2.29283800e+09, 3.23159445e+09, 4.55433579e+09, 6.42043714e+09,\n",
       "       9.05284398e+09, 1.27696664e+10, 1.80115454e+10, 2.54152625e+10,\n",
       "       3.58727928e+10, 5.06441140e+10, 7.15285118e+10, 1.01074674e+11,\n",
       "       1.42914219e+11, 2.02209168e+11, 2.86352995e+11, 4.05949745e+11,\n",
       "       5.76222608e+11, 8.19201357e+11, 1.16679017e+12, 1.66556355e+12,\n",
       "       2.38403085e+12, 3.44290877e+12, 4.93701526e+12])"
      ]
     },
     "execution_count": 250,
     "metadata": {},
     "output_type": "execute_result"
    }
   ],
   "source": [
    "t = np.linspace(0, data.shape[0]-1, data.shape[0])\n",
    "residual(params,t,data)"
   ]
  },
  {
   "cell_type": "markdown",
   "metadata": {},
   "source": [
    "## step 2.2: write optimization command ##"
   ]
  },
  {
   "cell_type": "code",
   "execution_count": 251,
   "metadata": {},
   "outputs": [],
   "source": [
    "result = minimize(residual, params, args=(t, data), method='leastsq')"
   ]
  },
  {
   "cell_type": "code",
   "execution_count": 252,
   "metadata": {},
   "outputs": [
    {
     "data": {
      "text/html": [
       "<h2>Fit Statistics</h2><table><tr><td>fitting method</td><td>leastsq</td><td></td></tr><tr><td># function evals</td><td>88</td><td></td></tr><tr><td># data points</td><td>71</td><td></td></tr><tr><td># variables</td><td>15</td><td></td></tr><tr><td>chi-square</td><td> 3.2993e+13</td><td></td></tr><tr><td>reduced chi-square</td><td> 5.8915e+11</td><td></td></tr><tr><td>Akaike info crit.</td><td> 1937.38825</td><td></td></tr><tr><td>Bayesian info crit.</td><td> 1971.32845</td><td></td></tr></table><h2>Variables</h2><table><tr><th> name </th><th> value </th><th> standard error </th><th> relative error </th><th> initial value </th><th> min </th><th> max </th><th> vary </th></tr><tr><td> beta_SE </td><td>  1.05773016 </td><td>  148071.354 </td><td> (13998972.52%) </td><td> 0.15 </td><td>  1.0000e-03 </td><td>  2.00000000 </td><td> True </td></tr><tr><td> gamma_ER </td><td>  1.55964614 </td><td>  15886.6660 </td><td> (1018607.08%) </td><td> 0.1 </td><td>  0.10000000 </td><td>  2.00000000 </td><td> True </td></tr><tr><td> fraction_symptomatic </td><td>  0.55275784 </td><td>  111958.807 </td><td> (20254585.08%) </td><td> 0.6 </td><td>  0.50000000 </td><td>  0.70000000 </td><td> True </td></tr><tr><td> days_EtoI </td><td>  3.77913199 </td><td>  241751.112 </td><td> (6397001.02%) </td><td> 3 </td><td>  1.00000000 </td><td>  5.00000000 </td><td> True </td></tr><tr><td> days_ItoH </td><td>  18.2832768 </td><td>  5256805.27 </td><td> (28751986.43%) </td><td> 5 </td><td>  1.00000000 </td><td>  20.0000000 </td><td> True </td></tr><tr><td> days_ItoR </td><td>  6.97362910 </td><td>  799441.872 </td><td> (11463785.36%) </td><td> 10 </td><td>  1.00000000 </td><td>  50.0000000 </td><td> True </td></tr><tr><td> days_HtoR </td><td>  57.2868571 </td><td>  186485.746 </td><td> (325529.72%) </td><td> 12 </td><td>  1.00000000 </td><td>  100.000000 </td><td> True </td></tr><tr><td> days_HtoICU </td><td>  5.09640271 </td><td>  4907.21930 </td><td> (96287.90%) </td><td> 5 </td><td>  1.00000000 </td><td>  50.0000000 </td><td> True </td></tr><tr><td> days_ICUtoD </td><td>  48.6350676 </td><td>  7717.07964 </td><td> (15867.32%) </td><td> 2 </td><td>  1.00000000 </td><td>  50.0000000 </td><td> True </td></tr><tr><td> days_ICUtoH </td><td>  15.5237051 </td><td>  25628.6455 </td><td> (165093.61%) </td><td> 6 </td><td>  1.00000000 </td><td>  50.0000000 </td><td> True </td></tr><tr><td> I0 </td><td>  8.98338511 </td><td>  1479425.99 </td><td> (16468468.93%) </td><td> 5 </td><td>  1.00000000 </td><td>  20.0000000 </td><td> True </td></tr><tr><td> E0 </td><td>  39.8746774 </td><td>  2818762.98 </td><td> (7069055.26%) </td><td> 10 </td><td>  1.00000000 </td><td>  40.0000000 </td><td> True </td></tr><tr><td> C0 </td><td>  13.8271748 </td><td>  4861780.33 </td><td> (35161053.61%) </td><td> 5 </td><td>  0.00000000 </td><td>  20.0000000 </td><td> True </td></tr><tr><td> OBS_Tr_EI_to_nbTest </td><td>  0.93814934 </td><td>  2852742.57 </td><td> (304081924.05%) </td><td> 0.25 </td><td>  0.05000000 </td><td>  1.00000000 </td><td> True </td></tr><tr><td> OBS_nbTest_to_nbpos </td><td>  0.89908884 </td><td>  2732077.67 </td><td> (303871826.66%) </td><td> 0.75 </td><td>  0.50000000 </td><td>  0.90000000 </td><td> True </td></tr></table><h2>Correlations (unreported correlations are < 0.100)</h2><table><tr><td>days_ItoH</td><td>I0</td><td>1.0000</td></tr><tr><td>fraction_symptomatic</td><td>C0</td><td>-1.0000</td></tr><tr><td>fraction_symptomatic</td><td>days_ItoH</td><td>1.0000</td></tr><tr><td>fraction_symptomatic</td><td>I0</td><td>1.0000</td></tr><tr><td>days_ItoH</td><td>C0</td><td>-0.9999</td></tr><tr><td>I0</td><td>C0</td><td>-0.9999</td></tr><tr><td>OBS_Tr_EI_to_nbTest</td><td>OBS_nbTest_to_nbpos</td><td>-0.9999</td></tr><tr><td>days_HtoICU</td><td>days_ICUtoH</td><td>0.9996</td></tr><tr><td>gamma_ER</td><td>days_ItoR</td><td>0.9994</td></tr><tr><td>gamma_ER</td><td>C0</td><td>0.9994</td></tr><tr><td>days_ItoR</td><td>C0</td><td>0.9993</td></tr><tr><td>gamma_ER</td><td>fraction_symptomatic</td><td>-0.9993</td></tr><tr><td>gamma_ER</td><td>days_ItoH</td><td>-0.9992</td></tr><tr><td>fraction_symptomatic</td><td>days_ItoR</td><td>-0.9991</td></tr><tr><td>gamma_ER</td><td>I0</td><td>-0.9991</td></tr><tr><td>days_ItoH</td><td>days_ItoR</td><td>-0.9988</td></tr><tr><td>days_ItoR</td><td>I0</td><td>-0.9988</td></tr><tr><td>days_EtoI</td><td>days_HtoR</td><td>0.9671</td></tr><tr><td>beta_SE</td><td>days_ItoR</td><td>-0.9645</td></tr><tr><td>beta_SE</td><td>gamma_ER</td><td>-0.9640</td></tr><tr><td>beta_SE</td><td>C0</td><td>-0.9599</td></tr><tr><td>beta_SE</td><td>fraction_symptomatic</td><td>0.9590</td></tr><tr><td>beta_SE</td><td>days_ItoH</td><td>0.9575</td></tr><tr><td>beta_SE</td><td>I0</td><td>0.9575</td></tr><tr><td>beta_SE</td><td>days_EtoI</td><td>0.9411</td></tr><tr><td>beta_SE</td><td>days_HtoR</td><td>0.8874</td></tr><tr><td>days_ItoH</td><td>E0</td><td>-0.8494</td></tr><tr><td>I0</td><td>E0</td><td>-0.8494</td></tr><tr><td>fraction_symptomatic</td><td>E0</td><td>-0.8470</td></tr><tr><td>E0</td><td>C0</td><td>0.8455</td></tr><tr><td>gamma_ER</td><td>E0</td><td>0.8362</td></tr><tr><td>days_ItoR</td><td>E0</td><td>0.8358</td></tr><tr><td>gamma_ER</td><td>days_EtoI</td><td>-0.8184</td></tr><tr><td>days_EtoI</td><td>days_ItoR</td><td>-0.8184</td></tr><tr><td>days_EtoI</td><td>C0</td><td>-0.8093</td></tr><tr><td>fraction_symptomatic</td><td>days_EtoI</td><td>0.8077</td></tr><tr><td>days_EtoI</td><td>I0</td><td>0.8050</td></tr><tr><td>days_EtoI</td><td>days_ItoH</td><td>0.8049</td></tr><tr><td>days_ItoR</td><td>days_HtoR</td><td>-0.7517</td></tr><tr><td>gamma_ER</td><td>days_HtoR</td><td>-0.7468</td></tr><tr><td>days_HtoR</td><td>C0</td><td>-0.7355</td></tr><tr><td>fraction_symptomatic</td><td>days_HtoR</td><td>0.7332</td></tr><tr><td>days_ItoH</td><td>days_HtoR</td><td>0.7289</td></tr><tr><td>days_HtoR</td><td>I0</td><td>0.7285</td></tr><tr><td>beta_SE</td><td>E0</td><td>-0.6621</td></tr><tr><td>days_EtoI</td><td>days_ICUtoD</td><td>0.5904</td></tr><tr><td>days_HtoR</td><td>days_ICUtoD</td><td>0.5760</td></tr><tr><td>beta_SE</td><td>days_ICUtoD</td><td>0.4532</td></tr><tr><td>days_EtoI</td><td>E0</td><td>-0.3707</td></tr><tr><td>days_EtoI</td><td>OBS_Tr_EI_to_nbTest</td><td>-0.3247</td></tr><tr><td>days_EtoI</td><td>OBS_nbTest_to_nbpos</td><td>0.3212</td></tr><tr><td>days_HtoR</td><td>OBS_Tr_EI_to_nbTest</td><td>-0.3192</td></tr><tr><td>beta_SE</td><td>OBS_nbTest_to_nbpos</td><td>0.3160</td></tr><tr><td>beta_SE</td><td>OBS_Tr_EI_to_nbTest</td><td>-0.3149</td></tr><tr><td>days_HtoR</td><td>OBS_nbTest_to_nbpos</td><td>0.3146</td></tr><tr><td>gamma_ER</td><td>days_ICUtoD</td><td>-0.3122</td></tr><tr><td>days_ItoR</td><td>days_ICUtoD</td><td>-0.3095</td></tr><tr><td>days_ICUtoD</td><td>C0</td><td>-0.3044</td></tr><tr><td>fraction_symptomatic</td><td>days_ICUtoD</td><td>0.3030</td></tr><tr><td>days_ICUtoD</td><td>I0</td><td>0.3004</td></tr><tr><td>days_ItoH</td><td>days_ICUtoD</td><td>0.3000</td></tr><tr><td>days_ItoR</td><td>OBS_nbTest_to_nbpos</td><td>-0.2862</td></tr><tr><td>C0</td><td>OBS_nbTest_to_nbpos</td><td>-0.2856</td></tr><tr><td>fraction_symptomatic</td><td>OBS_nbTest_to_nbpos</td><td>0.2853</td></tr><tr><td>gamma_ER</td><td>OBS_nbTest_to_nbpos</td><td>-0.2853</td></tr><tr><td>days_ItoH</td><td>OBS_nbTest_to_nbpos</td><td>0.2846</td></tr><tr><td>I0</td><td>OBS_nbTest_to_nbpos</td><td>0.2845</td></tr><tr><td>days_HtoR</td><td>E0</td><td>-0.2826</td></tr><tr><td>days_ItoR</td><td>OBS_Tr_EI_to_nbTest</td><td>0.2817</td></tr><tr><td>C0</td><td>OBS_Tr_EI_to_nbTest</td><td>0.2808</td></tr><tr><td>gamma_ER</td><td>OBS_Tr_EI_to_nbTest</td><td>0.2807</td></tr><tr><td>fraction_symptomatic</td><td>OBS_Tr_EI_to_nbTest</td><td>-0.2805</td></tr><tr><td>days_ItoH</td><td>OBS_Tr_EI_to_nbTest</td><td>-0.2797</td></tr><tr><td>I0</td><td>OBS_Tr_EI_to_nbTest</td><td>-0.2796</td></tr><tr><td>days_ICUtoD</td><td>OBS_Tr_EI_to_nbTest</td><td>-0.2152</td></tr><tr><td>days_ICUtoD</td><td>OBS_nbTest_to_nbpos</td><td>0.2094</td></tr><tr><td>days_HtoICU</td><td>E0</td><td>-0.2060</td></tr><tr><td>days_ICUtoH</td><td>E0</td><td>-0.1907</td></tr><tr><td>E0</td><td>OBS_nbTest_to_nbpos</td><td>-0.1604</td></tr><tr><td>days_ICUtoH</td><td>OBS_Tr_EI_to_nbTest</td><td>0.1542</td></tr><tr><td>days_ICUtoH</td><td>OBS_nbTest_to_nbpos</td><td>-0.1513</td></tr><tr><td>E0</td><td>OBS_Tr_EI_to_nbTest</td><td>0.1496</td></tr><tr><td>days_HtoICU</td><td>OBS_Tr_EI_to_nbTest</td><td>0.1454</td></tr><tr><td>days_HtoICU</td><td>OBS_nbTest_to_nbpos</td><td>-0.1424</td></tr><tr><td>days_HtoR</td><td>days_ICUtoH</td><td>-0.1299</td></tr><tr><td>days_HtoR</td><td>days_HtoICU</td><td>-0.1210</td></tr><tr><td>gamma_ER</td><td>days_HtoICU</td><td>-0.1112</td></tr><tr><td>days_ItoR</td><td>days_HtoICU</td><td>-0.1081</td></tr><tr><td>days_HtoICU</td><td>I0</td><td>0.1079</td></tr><tr><td>days_HtoICU</td><td>C0</td><td>-0.1070</td></tr><tr><td>days_ItoH</td><td>days_HtoICU</td><td>0.1063</td></tr><tr><td>fraction_symptomatic</td><td>days_HtoICU</td><td>0.1061</td></tr></table>"
      ],
      "text/plain": [
       "<lmfit.minimizer.MinimizerResult at 0x28002aae430>"
      ]
     },
     "execution_count": 252,
     "metadata": {},
     "output_type": "execute_result"
    }
   ],
   "source": [
    "result"
   ]
  },
  {
   "cell_type": "raw",
   "metadata": {},
   "source": [
    "understand the residual problem!"
   ]
  },
  {
   "cell_type": "code",
   "execution_count": 256,
   "metadata": {},
   "outputs": [
    {
     "ename": "ValueError",
     "evalue": "cannot reshape array of size 71 into shape (71,7)",
     "output_type": "error",
     "traceback": [
      "\u001b[1;31m---------------------------------------------------------------------------\u001b[0m",
      "\u001b[1;31mValueError\u001b[0m                                Traceback (most recent call last)",
      "\u001b[1;32m<ipython-input-256-1a54b79d67db>\u001b[0m in \u001b[0;36m<module>\u001b[1;34m\u001b[0m\n\u001b[1;32m----> 1\u001b[1;33m \u001b[0mfinal\u001b[0m \u001b[1;33m=\u001b[0m \u001b[0mdata\u001b[0m \u001b[1;33m+\u001b[0m \u001b[0mresult\u001b[0m\u001b[1;33m.\u001b[0m\u001b[0mresidual\u001b[0m\u001b[1;33m.\u001b[0m\u001b[0mreshape\u001b[0m\u001b[1;33m(\u001b[0m\u001b[0mdata\u001b[0m\u001b[1;33m.\u001b[0m\u001b[0mshape\u001b[0m\u001b[1;33m)\u001b[0m\u001b[1;33m\u001b[0m\u001b[1;33m\u001b[0m\u001b[0m\n\u001b[0m\u001b[0;32m      2\u001b[0m \u001b[1;31m# display fitted statistics\u001b[0m\u001b[1;33m\u001b[0m\u001b[1;33m\u001b[0m\u001b[1;33m\u001b[0m\u001b[0m\n\u001b[0;32m      3\u001b[0m \u001b[0mreport_fit\u001b[0m\u001b[1;33m(\u001b[0m\u001b[0mresult\u001b[0m\u001b[1;33m)\u001b[0m\u001b[1;33m\u001b[0m\u001b[1;33m\u001b[0m\u001b[0m\n",
      "\u001b[1;31mValueError\u001b[0m: cannot reshape array of size 71 into shape (71,7)"
     ]
    }
   ],
   "source": [
    "final = data + result.residual.reshape(data.shape)\n",
    "# display fitted statistics\n",
    "report_fit(result)"
   ]
  },
  {
   "cell_type": "code",
   "execution_count": null,
   "metadata": {},
   "outputs": [],
   "source": []
  },
  {
   "cell_type": "code",
   "execution_count": null,
   "metadata": {},
   "outputs": [],
   "source": []
  },
  {
   "cell_type": "code",
   "execution_count": null,
   "metadata": {},
   "outputs": [],
   "source": []
  }
 ],
 "metadata": {
  "kernelspec": {
   "display_name": "Python 3",
   "language": "python",
   "name": "python3"
  },
  "language_info": {
   "codemirror_mode": {
    "name": "ipython",
    "version": 3
   },
   "file_extension": ".py",
   "mimetype": "text/x-python",
   "name": "python",
   "nbconvert_exporter": "python",
   "pygments_lexer": "ipython3",
   "version": "3.8.5"
  }
 },
 "nbformat": 4,
 "nbformat_minor": 4
}
